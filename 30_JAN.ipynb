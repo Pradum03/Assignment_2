{
 "cells": [
  {
   "cell_type": "markdown",
   "id": "ffa909c4-36bf-4233-aba7-1f58ad259479",
   "metadata": {},
   "source": [
    "Assignment 2"
   ]
  },
  {
   "cell_type": "markdown",
   "id": "f5530913-d00b-46a9-9183-31e7d4f05bf3",
   "metadata": {},
   "source": [
    "1."
   ]
  },
  {
   "cell_type": "code",
   "execution_count": null,
   "id": "81064d44-42bc-4026-b9be-0e3529832c42",
   "metadata": {},
   "outputs": [
    {
     "name": "stdin",
     "output_type": "stream",
     "text": [
      "Kindly enter the marks 45\n"
     ]
    },
    {
     "name": "stdout",
     "output_type": "stream",
     "text": [
      "Grade D\n"
     ]
    }
   ],
   "source": [
    "marks= int(input(\"Kindly enter the marks\"))\n",
    "if marks>90 and marks<=100:\n",
    "  print(\"Grade A\")\n",
    "elif marks<=90 and marks>80:\n",
    "  print(\"Grade B\")  \n",
    "elif marks<=80 and marks>=60:\n",
    "  print(\"Grade c\")\n",
    "elif marks<60:\n",
    "  print(\"Grade D\")  \n",
    "else:\n",
    "  print(\"Enter the marks within 100\")"
   ]
  },
  {
   "cell_type": "markdown",
   "id": "a410211c-6193-48a0-a1b1-d9957bd6341b",
   "metadata": {},
   "source": [
    "2."
   ]
  },
  {
   "cell_type": "code",
   "execution_count": 5,
   "id": "f6235ce5-a770-41b8-a654-c405c4cede54",
   "metadata": {},
   "outputs": [
    {
     "name": "stdin",
     "output_type": "stream",
     "text": [
      "Kindly enter the cost_price 60000\n"
     ]
    },
    {
     "name": "stdout",
     "output_type": "stream",
     "text": [
      "tax_needed= 6000.0\n"
     ]
    }
   ],
   "source": [
    "cost_price= int(input(\"Kindly enter the cost_price\"))\n",
    "if cost_price>100000:\n",
    "  print(\"tax_needed= \"+str(0.15*cost_price))\n",
    "elif cost_price>50000 and cost_price<=100000:\n",
    "  print(\"tax_needed= \"+str(0.10*cost_price))\n",
    "elif cost_price<=50000:\n",
    "  print(\"tax_needed= \"+str(0.05*cost_price))\n",
    "else:\n",
    " print(\"enter the valid amount\")"
   ]
  },
  {
   "cell_type": "markdown",
   "id": "8c5e8d43-61f0-4cd4-861a-70fe448f6f92",
   "metadata": {},
   "source": [
    "3."
   ]
  },
  {
   "cell_type": "code",
   "execution_count": 6,
   "id": "562dccdb-b11b-42a0-9154-7a3caea52b47",
   "metadata": {},
   "outputs": [
    {
     "name": "stdin",
     "output_type": "stream",
     "text": [
      "Kindly enter the name of city as follows: DELHI, AGRA, JAIPUR AGRA\n"
     ]
    },
    {
     "name": "stdout",
     "output_type": "stream",
     "text": [
      "TAJ MAHAL\n"
     ]
    }
   ],
   "source": [
    "city = input(\"Kindly enter the name of city as follows: DELHI, AGRA, JAIPUR\")\n",
    "if city == \"JAIPUR\":\n",
    "    print(\"JAL MAHAL\")\n",
    "elif city == \"AGRA\":\n",
    "    print(\"TAJ MAHAL\")  \n",
    "elif city == \"DELHI\":\n",
    "    print(\"RED FORT\")\n",
    "else:\n",
    "    print(\"CITY NOT FOUND\")"
   ]
  },
  {
   "cell_type": "markdown",
   "id": "c5c19f3e-22a3-43e8-998c-391b896ffe0c",
   "metadata": {},
   "source": [
    "4."
   ]
  },
  {
   "cell_type": "code",
   "execution_count": 3,
   "id": "18121726-a9a9-4585-8aee-bd4c20f10eed",
   "metadata": {},
   "outputs": [
    {
     "name": "stdin",
     "output_type": "stream",
     "text": [
      "Kindly enter the number:  120\n"
     ]
    },
    {
     "name": "stdout",
     "output_type": "stream",
     "text": [
      "3\n"
     ]
    }
   ],
   "source": [
    "number = int(input(\"Kindly enter the number: \"))\n",
    "c = 0\n",
    "while number > 10:\n",
    "    c += 1\n",
    "    number /= 3\n",
    "print(c)"
   ]
  },
  {
   "cell_type": "markdown",
   "id": "85645510-736f-483a-8200-b7747e3a5e50",
   "metadata": {},
   "source": [
    "##### 5."
   ]
  },
  {
   "cell_type": "markdown",
   "id": "f8aaeac7-fbb9-4371-a847-98e47f1f7ca7",
   "metadata": {},
   "source": [
    "A while loop in Python is used when you want to repeatedly execute a block of code as long as a certain condition is true. The general syntax for a while loop is:\n",
    "while condition:\n",
    "    # execute code while condition is true\n",
    "Here, condition is the expression that is evaluated at the beginning of each loop iteration. If condition is true, the code inside the loop is executed. After the code executes, the condition is checked again, and the loop continues as long as the condition remains true.\n",
    "\n",
    "A common example of a while loop is when you want to repeatedly ask the user for input until they provide a valid response. For example:\n",
    "valid_input = False\n",
    "\n",
    "while not valid_input:\n",
    "    user_input = input(\"Enter a number between 1 and 10: \")\n",
    "    if user_input.isdigit() and 1 <= int(user_input) <= 10:\n",
    "        valid_input = True\n",
    "    else:\n",
    "        print(\"Invalid input. Please try again.\")\n",
    "In this example, the while loop continues to run as long as valid_input is false. Inside the loop, we ask the user to input a number between 1 and 10. We then check if the input is valid by using the isdigit() method to check if it's a digit, and then converting it to an integer and checking if it's between 1 and 10.\n",
    "\n",
    "If the input is valid, we set valid_input to True, which will cause the loop to terminate. If the input is invalid, we print an error message and the loop repeats.\n",
    "\n",
    "Another example of a while loop is when you want to repeatedly perform a calculation until a certain threshold is reached. For example:\n",
    "total = 0\n",
    "count = 0\n",
    "\n",
    "while total < 100:\n",
    "    number = int(input(\"Enter a number: \"))\n",
    "    total += number\n",
    "    count += 1\n",
    "\n",
    "print(\"It took\", count, \"numbers to reach a total of at least 100.\")\n",
    "In this example, the while loop continues to run as long as the total variable is less than 100. Inside the loop, we ask the user to input a number, and then add it to the total variable. We also increment the count variable to keep track of how many numbers have been input.\n",
    "\n",
    "Once the total variable reaches 100 or more, the loop terminates and we print a message indicating how many numbers were needed to reach a total of at least 100.\n",
    "\n",
    "Overall, while loops are useful in situations where you need to repeat a certain operation until a certain condition is met. However, you need to be careful to avoid infinite loops, where the loop never terminates because the condition is always true."
   ]
  },
  {
   "cell_type": "markdown",
   "id": "4b5a93c3-0e11-4b58-9a73-119ba38bf321",
   "metadata": {},
   "source": [
    "###### 6."
   ]
  },
  {
   "cell_type": "code",
   "execution_count": 5,
   "id": "16f3cb26-8622-478a-bdb5-98abd051c97a",
   "metadata": {},
   "outputs": [
    {
     "name": "stdout",
     "output_type": "stream",
     "text": [
      "*\n",
      "**\n",
      "***\n",
      "****\n",
      "*****\n"
     ]
    }
   ],
   "source": [
    "i = 1\n",
    "\n",
    "while i <= 5:\n",
    "    j = 1\n",
    "    while j <= i:\n",
    "        print(\"*\", end=\"\")\n",
    "        j += 1\n",
    "    print()\n",
    "    i += 1\n"
   ]
  },
  {
   "cell_type": "code",
   "execution_count": 6,
   "id": "f6911884-29df-478d-a55d-30d9412cf485",
   "metadata": {},
   "outputs": [
    {
     "name": "stdout",
     "output_type": "stream",
     "text": [
      "*****\n",
      "****\n",
      "***\n",
      "**\n",
      "*\n"
     ]
    }
   ],
   "source": [
    "i = 5\n",
    "\n",
    "while i >= 1:\n",
    "    j = 1\n",
    "    while j <= i:\n",
    "        print(\"*\", end=\"\")\n",
    "        j += 1\n",
    "    print()\n",
    "    i -= 1\n"
   ]
  },
  {
   "cell_type": "code",
   "execution_count": 7,
   "id": "db8a2e14-abb0-4253-bbf8-258e18c878fe",
   "metadata": {},
   "outputs": [
    {
     "name": "stdout",
     "output_type": "stream",
     "text": [
      "    *\n",
      "   ***\n",
      "  *****\n",
      " *******\n",
      "*********\n"
     ]
    }
   ],
   "source": [
    "i = 1\n",
    "while i <= 5:\n",
    "    j = 1\n",
    "    while j <= 5 - i:\n",
    "        print(\" \", end=\"\")\n",
    "        j += 1\n",
    "    k = 1\n",
    "    while k <= i * 2 - 1:\n",
    "        print(\"*\", end=\"\")\n",
    "        k += 1\n",
    "    print()\n",
    "    i += 1\n"
   ]
  },
  {
   "cell_type": "markdown",
   "id": "a0bba06c-8f09-4200-972c-571c6887fe8d",
   "metadata": {},
   "source": [
    "7."
   ]
  },
  {
   "cell_type": "code",
   "execution_count": 9,
   "id": "b64d778b-7655-42c5-b04f-e7128987bffc",
   "metadata": {},
   "outputs": [
    {
     "name": "stdout",
     "output_type": "stream",
     "text": [
      "10  \n",
      "9  \n",
      "8  \n",
      "7  \n",
      "6  \n",
      "5  \n",
      "4  \n",
      "3  \n",
      "2  \n",
      "1  \n"
     ]
    }
   ],
   "source": [
    "i=10\n",
    "while i>=1:\n",
    "    print(i,\" \")\n",
    "    i-=1"
   ]
  },
  {
   "cell_type": "code",
   "execution_count": null,
   "id": "8839e31d-7223-41c0-b29e-3ee98f336800",
   "metadata": {},
   "outputs": [],
   "source": []
  }
 ],
 "metadata": {
  "kernelspec": {
   "display_name": "Python 3 (ipykernel)",
   "language": "python",
   "name": "python3"
  },
  "language_info": {
   "codemirror_mode": {
    "name": "ipython",
    "version": 3
   },
   "file_extension": ".py",
   "mimetype": "text/x-python",
   "name": "python",
   "nbconvert_exporter": "python",
   "pygments_lexer": "ipython3",
   "version": "3.10.8"
  }
 },
 "nbformat": 4,
 "nbformat_minor": 5
}
